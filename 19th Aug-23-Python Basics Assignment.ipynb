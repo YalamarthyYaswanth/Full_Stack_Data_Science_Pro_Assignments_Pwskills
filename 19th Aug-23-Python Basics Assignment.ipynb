{
 "cells": [
  {
   "cell_type": "markdown",
   "id": "667ca5de",
   "metadata": {},
   "source": [
    "\n",
    "# TOPIC: Python Basics Variable"
   ]
  },
  {
   "cell_type": "markdown",
   "id": "238c2f9e",
   "metadata": {},
   "source": [
    "Declare two variables, `x` and `y`, and assign them integer values. Swap the\n",
    "values of these variables without using any temporary variable."
   ]
  },
  {
   "cell_type": "code",
   "execution_count": 8,
   "id": "150338a7",
   "metadata": {},
   "outputs": [
    {
     "name": "stdout",
     "output_type": "stream",
     "text": [
      "updated value of x = 15\n",
      "updated value of y = 10\n"
     ]
    }
   ],
   "source": [
    "x=10\n",
    "y=15\n",
    "\n",
    "x=x+y\n",
    "y=x-y\n",
    "x=x-y\n",
    "print('updated value of x :',x)\n",
    "print('updated value of y :',y)"
   ]
  },
  {
   "cell_type": "markdown",
   "id": "3cf1cc71",
   "metadata": {},
   "source": [
    "Create a program that calculates the area of a rectangle. Take the length and\n",
    "width as inputs from the user and store them in variables. Calculate and\n",
    "display the area."
   ]
  },
  {
   "cell_type": "code",
   "execution_count": 1,
   "id": "43063dcd",
   "metadata": {},
   "outputs": [
    {
     "name": "stdout",
     "output_type": "stream",
     "text": [
      "enter the length of the rectangele :10\n",
      "enter the breth of the rectangle :25\n",
      "250 sq unit.\n"
     ]
    }
   ],
   "source": [
    "x= int(input(\"enter the length of the rectangele :\"))\n",
    "y= int(input(\"enter the breth of the rectangle :\"))\n",
    "\n",
    "area=x*y\n",
    "print(area,'sq unit.')"
   ]
  },
  {
   "cell_type": "markdown",
   "id": "e21a3ca0",
   "metadata": {},
   "source": [
    "Write a Python program that converts temperatures from Celsius to Fahrenheit. Take the temperature in Celsius as input, store it in a variable, convert it to Fahrenheit, and display the result."
   ]
  },
  {
   "cell_type": "code",
   "execution_count": 3,
   "id": "3331b63d",
   "metadata": {},
   "outputs": [
    {
     "name": "stdout",
     "output_type": "stream",
     "text": [
      "Enter temperature in celcius :92\n"
     ]
    },
    {
     "data": {
      "text/plain": [
       "197.6"
      ]
     },
     "execution_count": 3,
     "metadata": {},
     "output_type": "execute_result"
    }
   ],
   "source": [
    "celcius = float(input(\"Enter temperature in celcius :\"))\n",
    "farenheit = (celcius * 9/5) + 32\n",
    "farenheit"
   ]
  },
  {
   "cell_type": "markdown",
   "id": "6296b5bc",
   "metadata": {},
   "source": [
    "# TOPIC: String Based Questions"
   ]
  },
  {
   "cell_type": "markdown",
   "id": "b502b005",
   "metadata": {},
   "source": [
    "Write a Python program that takes a string as input and prints the length of the string."
   ]
  },
  {
   "cell_type": "code",
   "execution_count": 7,
   "id": "95126085",
   "metadata": {},
   "outputs": [
    {
     "name": "stdout",
     "output_type": "stream",
     "text": [
      "Enter a string.: Pwskills\n",
      "Your entered string lenght is : 8\n"
     ]
    }
   ],
   "source": [
    "str = input(\"Enter a string.: \")\n",
    "length = len(str)\n",
    "print('Your entered string lenght is :',length)\n"
   ]
  },
  {
   "cell_type": "markdown",
   "id": "616d5319",
   "metadata": {},
   "source": [
    "Create a program that takes a sentence from the user and counts the number of vowels (a, e, i, o, u) in the string."
   ]
  },
  {
   "cell_type": "code",
   "execution_count": 11,
   "id": "12b216e4",
   "metadata": {},
   "outputs": [
    {
     "name": "stdout",
     "output_type": "stream",
     "text": [
      "Enter a sentence :hello Pwsills\n",
      "the no of vowels int string are : 3\n"
     ]
    }
   ],
   "source": [
    "sentence = input(\"Enter a sentence :\")\n",
    "vowels=\"aeiouAEIOU\"\n",
    "vowel_count = 0\n",
    "for char in sentence:\n",
    "    if char in vowels:\n",
    "        vowel_count += 1\n",
    "print('the no of vowels int string are :',vowel_count)"
   ]
  },
  {
   "cell_type": "markdown",
   "id": "f36b2b62",
   "metadata": {},
   "source": [
    "Given a string, reverse the order of characters using string slicing and print the reversed string."
   ]
  },
  {
   "cell_type": "code",
   "execution_count": 16,
   "id": "bf7288a2",
   "metadata": {},
   "outputs": [
    {
     "name": "stdout",
     "output_type": "stream",
     "text": [
      "Enter a sentence :Pwskills\n",
      "Reverse of the characters is : sllikswP\n"
     ]
    }
   ],
   "source": [
    "str = input(\"Enter a sentence :\")\n",
    "print('Reverse of the characters is :',str[::-1])"
   ]
  },
  {
   "cell_type": "markdown",
   "id": "598b63b1",
   "metadata": {},
   "source": [
    "Write a program that takes a string as input and checks if it is a palindrome (reads the same forwards and backwards)."
   ]
  },
  {
   "cell_type": "code",
   "execution_count": 18,
   "id": "d9b16283",
   "metadata": {},
   "outputs": [
    {
     "name": "stdout",
     "output_type": "stream",
     "text": [
      "Enter a word to check  Palindrome.pwskills\n",
      "pwskills  is NOT a Palindrome\n"
     ]
    }
   ],
   "source": [
    "word = input(\"Enter a word to check  Palindrome.\")\n",
    "if (word == word[::-1]):\n",
    "    print(word, \" is a Palindrome\")\n",
    "else:\n",
    "    print(word, \" is NOT a Palindrome\")"
   ]
  },
  {
   "cell_type": "markdown",
   "id": "9acecacc",
   "metadata": {},
   "source": [
    "Create a program that takes a string as input and removes all the spaces from it. Print the modified string without spaces."
   ]
  },
  {
   "cell_type": "code",
   "execution_count": 20,
   "id": "335a39cb",
   "metadata": {},
   "outputs": [
    {
     "name": "stdout",
     "output_type": "stream",
     "text": [
      "Enter a string with spaces: Hello Pwskills\n",
      "String without spaces: HelloPwskills\n"
     ]
    }
   ],
   "source": [
    "str = input(\"Enter a string with spaces: \")\n",
    "\n",
    "no_space_str = str.replace(\" \", \"\")\n",
    "print(\"String without spaces:\", no_space_str)"
   ]
  },
  {
   "cell_type": "code",
   "execution_count": null,
   "id": "35bb1c4a",
   "metadata": {},
   "outputs": [],
   "source": []
  }
 ],
 "metadata": {
  "kernelspec": {
   "display_name": "Python 3 (ipykernel)",
   "language": "python",
   "name": "python3"
  },
  "language_info": {
   "codemirror_mode": {
    "name": "ipython",
    "version": 3
   },
   "file_extension": ".py",
   "mimetype": "text/x-python",
   "name": "python",
   "nbconvert_exporter": "python",
   "pygments_lexer": "ipython3",
   "version": "3.9.16"
  }
 },
 "nbformat": 4,
 "nbformat_minor": 5
}
